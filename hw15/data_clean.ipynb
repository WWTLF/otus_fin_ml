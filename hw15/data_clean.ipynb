{
 "cells": [
  {
   "cell_type": "code",
   "execution_count": 3,
   "metadata": {},
   "outputs": [
    {
     "name": "stdout",
     "output_type": "stream",
     "text": [
      "Collecting duckdb\n",
      "  Downloading duckdb-1.1.3-cp312-cp312-macosx_12_0_x86_64.whl.metadata (762 bytes)\n",
      "Downloading duckdb-1.1.3-cp312-cp312-macosx_12_0_x86_64.whl (17.0 MB)\n",
      "\u001b[2K   \u001b[38;2;114;156;31m━━━━━━━━━━━━━━━━━━━━━━━━━━━━━━━━━━━━━━━━\u001b[0m \u001b[32m17.0/17.0 MB\u001b[0m \u001b[31m883.4 kB/s\u001b[0m eta \u001b[36m0:00:00\u001b[0mm eta \u001b[36m0:00:01\u001b[0m[36m0:00:02\u001b[0m\n",
      "\u001b[?25hInstalling collected packages: duckdb\n",
      "Successfully installed duckdb-1.1.3\n",
      "Note: you may need to restart the kernel to use updated packages.\n"
     ]
    }
   ],
   "source": [
    "%pip install duckdb"
   ]
  },
  {
   "cell_type": "code",
   "execution_count": null,
   "metadata": {},
   "outputs": [
    {
     "name": "stdout",
     "output_type": "stream",
     "text": [
      "Requirement already satisfied: yfinance in /opt/anaconda3/lib/python3.12/site-packages (0.2.49)\n",
      "Requirement already satisfied: pandas>=1.3.0 in /opt/anaconda3/lib/python3.12/site-packages (from yfinance) (2.2.2)\n",
      "Requirement already satisfied: numpy>=1.16.5 in /opt/anaconda3/lib/python3.12/site-packages (from yfinance) (1.26.4)\n",
      "Requirement already satisfied: requests>=2.31 in /opt/anaconda3/lib/python3.12/site-packages (from yfinance) (2.32.3)\n",
      "Requirement already satisfied: multitasking>=0.0.7 in /opt/anaconda3/lib/python3.12/site-packages (from yfinance) (0.0.11)\n",
      "Requirement already satisfied: lxml>=4.9.1 in /opt/anaconda3/lib/python3.12/site-packages (from yfinance) (5.2.1)\n",
      "Requirement already satisfied: platformdirs>=2.0.0 in /opt/anaconda3/lib/python3.12/site-packages (from yfinance) (3.10.0)\n",
      "Requirement already satisfied: pytz>=2022.5 in /opt/anaconda3/lib/python3.12/site-packages (from yfinance) (2024.1)\n",
      "Requirement already satisfied: frozendict>=2.3.4 in /opt/anaconda3/lib/python3.12/site-packages (from yfinance) (2.4.2)\n",
      "Requirement already satisfied: peewee>=3.16.2 in /opt/anaconda3/lib/python3.12/site-packages (from yfinance) (3.17.8)\n",
      "Requirement already satisfied: beautifulsoup4>=4.11.1 in /opt/anaconda3/lib/python3.12/site-packages (from yfinance) (4.12.3)\n",
      "Requirement already satisfied: html5lib>=1.1 in /opt/anaconda3/lib/python3.12/site-packages (from yfinance) (1.1)\n",
      "Requirement already satisfied: soupsieve>1.2 in /opt/anaconda3/lib/python3.12/site-packages (from beautifulsoup4>=4.11.1->yfinance) (2.5)\n",
      "Requirement already satisfied: six>=1.9 in /opt/anaconda3/lib/python3.12/site-packages (from html5lib>=1.1->yfinance) (1.16.0)\n",
      "Requirement already satisfied: webencodings in /opt/anaconda3/lib/python3.12/site-packages (from html5lib>=1.1->yfinance) (0.5.1)\n",
      "Requirement already satisfied: python-dateutil>=2.8.2 in /opt/anaconda3/lib/python3.12/site-packages (from pandas>=1.3.0->yfinance) (2.9.0.post0)\n",
      "Requirement already satisfied: tzdata>=2022.7 in /opt/anaconda3/lib/python3.12/site-packages (from pandas>=1.3.0->yfinance) (2023.3)\n",
      "Requirement already satisfied: charset-normalizer<4,>=2 in /opt/anaconda3/lib/python3.12/site-packages (from requests>=2.31->yfinance) (3.3.2)\n",
      "Requirement already satisfied: idna<4,>=2.5 in /opt/anaconda3/lib/python3.12/site-packages (from requests>=2.31->yfinance) (3.7)\n",
      "Requirement already satisfied: urllib3<3,>=1.21.1 in /opt/anaconda3/lib/python3.12/site-packages (from requests>=2.31->yfinance) (2.2.3)\n",
      "Requirement already satisfied: certifi>=2017.4.17 in /opt/anaconda3/lib/python3.12/site-packages (from requests>=2.31->yfinance) (2024.12.14)\n",
      "Note: you may need to restart the kernel to use updated packages.\n"
     ]
    }
   ],
   "source": [
    "%pip install yfinance"
   ]
  },
  {
   "cell_type": "code",
   "execution_count": 2,
   "metadata": {},
   "outputs": [],
   "source": [
    "from datetime import date\n",
    "import yfinance as yf\n",
    "import pandas as pd\n",
    "import duckdb\n",
    "from dateutil.relativedelta import relativedelta"
   ]
  },
  {
   "cell_type": "code",
   "execution_count": 14,
   "metadata": {},
   "outputs": [],
   "source": [
    "tickers_to_download = ['AAPL', 'GOOG','AMZN', 'MSFT', 'AMD', 'NVDA', 'IBM']\n",
    "\n",
    "# Скачивание данных о котировках\n",
    "def download_stock_data(ticker, start_date: date, end_date: date):\n",
    "    data = yf.download(ticker, start=start_date.strftime(\"%Y-%m-%d\"), end=end_date.strftime(\"%Y-%m-%d\"), interval=\"1d\", threads=True)\n",
    "    # group_by='ticker'\n",
    "    return data\n",
    "\n",
    "def preload_date_for_ticker(db_connection, ticker: str, today: date) -> pd.DataFrame:\n",
    "    start_date = today\n",
    "    last_item = db_connection.sql(\"select stock_date from stock_data where ticker like '{}' order by stock_date desc limit 1\".format(ticker))   \n",
    "    if last_item.df().shape[0] == 0:\n",
    "        start_date = today - relativedelta(years=1)\n",
    "    else:\n",
    "        start_date = last_item.df().iloc[0]['stock_date']\n",
    "    \n",
    "    print(start_date, \"->\", ticker)\n",
    "    \n",
    "    data = download_stock_data(ticker, start_date, today)\n",
    "\n",
    "    for index, row in data.iterrows():\n",
    "        insert_statement = \"\"\"\n",
    "            insert into stock_data(ticker, stock_date, open, close, high, low, adj_close, volume) values('{}', '{}', {}, {}, {}, {}, {}, {})  ON CONFLICT DO NOTHING;\n",
    "        \"\"\".format(\n",
    "                   ticker,\n",
    "                   index,\n",
    "                   row['Open'][ticker],\n",
    "                   row['Close'][ticker],\n",
    "                   row['High'][ticker],\n",
    "                   row['Low'][ticker],\n",
    "                   row['Adj Close'][ticker],\n",
    "                   row['Volume'][ticker])\n",
    "        # print(insert_statement)\n",
    "        db_connection.sql(insert_statement)\n",
    "\n",
    "\n",
    "def establish_db_connection():\n",
    "    con = duckdb.connect(\"./stock_data.db\")\n",
    "\n",
    "    create_table_statement = \"\"\"\n",
    "        CREATE TABLE IF NOT EXISTS stock_data (\n",
    "            ticker varchar(10) not null,\n",
    "            stock_date datetime not null,\n",
    "            open FLOAT not null,\n",
    "            close FLOAT not null,\n",
    "            high FLOAT not null,\n",
    "            low FLOAT not null,\n",
    "            adj_close FLOAT not null,\n",
    "            volume FLOAT not null\n",
    "        );\n",
    "        \n",
    "    \"\"\"\n",
    "\n",
    "    create_index_statement = \"\"\"\n",
    "        CREATE UNIQUE INDEX ticker_ts ON stock_data (ticker, stock_date);\n",
    "    \"\"\"\n",
    "\n",
    "    con.sql(create_table_statement)\n",
    "\n",
    "    try:\n",
    "        con.sql(create_index_statement)\n",
    "    except:\n",
    "        print(\"index alredy exists\")\n",
    "\n",
    "    return con"
   ]
  },
  {
   "cell_type": "code",
   "execution_count": 11,
   "metadata": {},
   "outputs": [
    {
     "name": "stderr",
     "output_type": "stream",
     "text": [
      "[*********************100%***********************]  1 of 1 completed"
     ]
    },
    {
     "name": "stdout",
     "output_type": "stream",
     "text": [
      "2024-01-20 -> AAPL\n"
     ]
    },
    {
     "name": "stderr",
     "output_type": "stream",
     "text": [
      "\n",
      "[*********************100%***********************]  1 of 1 completed"
     ]
    },
    {
     "name": "stdout",
     "output_type": "stream",
     "text": [
      "2024-01-20 -> GOOG\n"
     ]
    },
    {
     "name": "stderr",
     "output_type": "stream",
     "text": [
      "\n",
      "[*********************100%***********************]  1 of 1 completed"
     ]
    },
    {
     "name": "stdout",
     "output_type": "stream",
     "text": [
      "2024-01-20 -> AMZN\n"
     ]
    },
    {
     "name": "stderr",
     "output_type": "stream",
     "text": [
      "\n",
      "[*********************100%***********************]  1 of 1 completed"
     ]
    },
    {
     "name": "stdout",
     "output_type": "stream",
     "text": [
      "2024-01-20 -> MSFT\n"
     ]
    },
    {
     "name": "stderr",
     "output_type": "stream",
     "text": [
      "\n"
     ]
    },
    {
     "name": "stdout",
     "output_type": "stream",
     "text": [
      "2024-01-20 -> AMD\n"
     ]
    },
    {
     "name": "stderr",
     "output_type": "stream",
     "text": [
      "[*********************100%***********************]  1 of 1 completed\n"
     ]
    },
    {
     "name": "stdout",
     "output_type": "stream",
     "text": [
      "2024-01-20 -> NVDA\n"
     ]
    },
    {
     "name": "stderr",
     "output_type": "stream",
     "text": [
      "[*********************100%***********************]  1 of 1 completed\n"
     ]
    },
    {
     "name": "stdout",
     "output_type": "stream",
     "text": [
      "2024-01-20 -> IBM\n"
     ]
    },
    {
     "name": "stderr",
     "output_type": "stream",
     "text": [
      "[*********************100%***********************]  1 of 1 completed\n"
     ]
    }
   ],
   "source": [
    "con = establish_db_connection()\n",
    "\n",
    "for t in tickers_to_download:\n",
    "    preload_date_for_ticker(con, t,  date.today())"
   ]
  },
  {
   "cell_type": "code",
   "execution_count": 12,
   "metadata": {},
   "outputs": [
    {
     "data": {
      "text/plain": [
       "Timestamp('2025-01-17 00:00:00')"
      ]
     },
     "execution_count": 12,
     "metadata": {},
     "output_type": "execute_result"
    }
   ],
   "source": [
    "last_item = con.sql(\"select stock_date from stock_data where ticker like '{}' order by stock_date desc limit 1\".format(\"IBM\"))   \n",
    "last_item.df().iloc[0]['stock_date']\n",
    "# start_date = last_item.df().iloc[0]['stock_data']\n"
   ]
  },
  {
   "cell_type": "code",
   "execution_count": 13,
   "metadata": {},
   "outputs": [],
   "source": [
    "con.close()"
   ]
  },
  {
   "cell_type": "code",
   "execution_count": 22,
   "metadata": {},
   "outputs": [],
   "source": [
    "\n",
    "def get_rid_of_outliers(source_df: pd.DataFrame): \n",
    "    print(source_df.columns)\n",
    "    # Вычисление межквартильного размаха (IQR)\n",
    "    Q1 = source_df['Close'].quantile(0.25)  # Первый квартиль (25-й процентиль)\n",
    "    Q3 = source_df['Close'].quantile(0.75)  # Третий квартиль (75-й процентиль)\n",
    "    IQR = Q3 - Q1                        # Межквартильный размах\n",
    "\n",
    "    # Определение границ для выбросов\n",
    "    lower_bound = Q1 - 1.5 * IQR  # Нижняя граница\n",
    "    upper_bound = Q3 + 1.5 * IQR  # Верхняя граница\n",
    "\n",
    "    # Пометка выбросов\n",
    "    source_df['is_outlier'] = (source_df['Close'] < lower_bound) | (source_df['Close'] > upper_bound)\n",
    "    window = 5  # Количество дней для среднего\n",
    "    source_df['price_corrected'] = source_df['Close']\n",
    "    source_df.loc[source_df['is_outlier'], 'Close'] =  source_df['price_corrected'].rolling(window=window, center=True).mean()\n",
    "    source_df.drop(columns=['price_corrected'], inplace=True)"
   ]
  },
  {
   "cell_type": "code",
   "execution_count": 31,
   "metadata": {},
   "outputs": [
    {
     "name": "stderr",
     "output_type": "stream",
     "text": [
      "[*********************100%***********************]  1 of 1 completed\n"
     ]
    }
   ],
   "source": [
    "data = yf.download('AMZN', start='2024-01-20', end='2025-01-26', interval=\"1d\", threads=True, group_by='Ticker', auto_adjust=True)"
   ]
  },
  {
   "cell_type": "code",
   "execution_count": 14,
   "metadata": {},
   "outputs": [
    {
     "data": {
      "text/plain": [
       "Index(['Open', 'High', 'Low', 'Close', 'Volume'], dtype='object', name='Price')"
      ]
     },
     "execution_count": 14,
     "metadata": {},
     "output_type": "execute_result"
    }
   ],
   "source": [
    "data['AMZN'].columns"
   ]
  },
  {
   "cell_type": "code",
   "execution_count": 32,
   "metadata": {},
   "outputs": [],
   "source": [
    "df = data['AMZN']"
   ]
  },
  {
   "cell_type": "code",
   "execution_count": 33,
   "metadata": {},
   "outputs": [
    {
     "name": "stdout",
     "output_type": "stream",
     "text": [
      "Index(['Open', 'High', 'Low', 'Close', 'Volume'], dtype='object', name='Price')\n"
     ]
    },
    {
     "name": "stderr",
     "output_type": "stream",
     "text": [
      "/var/folders/yd/h4jp1p2n15l6yrq6ndgwygxh0000gn/T/ipykernel_46793/1721976483.py:13: SettingWithCopyWarning: \n",
      "A value is trying to be set on a copy of a slice from a DataFrame.\n",
      "Try using .loc[row_indexer,col_indexer] = value instead\n",
      "\n",
      "See the caveats in the documentation: https://pandas.pydata.org/pandas-docs/stable/user_guide/indexing.html#returning-a-view-versus-a-copy\n",
      "  source_df['is_outlier'] = (source_df['Close'] < lower_bound) | (source_df['Close'] > upper_bound)\n",
      "/var/folders/yd/h4jp1p2n15l6yrq6ndgwygxh0000gn/T/ipykernel_46793/1721976483.py:15: SettingWithCopyWarning: \n",
      "A value is trying to be set on a copy of a slice from a DataFrame.\n",
      "Try using .loc[row_indexer,col_indexer] = value instead\n",
      "\n",
      "See the caveats in the documentation: https://pandas.pydata.org/pandas-docs/stable/user_guide/indexing.html#returning-a-view-versus-a-copy\n",
      "  source_df['price_corrected'] = source_df['Close']\n",
      "/var/folders/yd/h4jp1p2n15l6yrq6ndgwygxh0000gn/T/ipykernel_46793/1721976483.py:17: SettingWithCopyWarning: \n",
      "A value is trying to be set on a copy of a slice from a DataFrame\n",
      "\n",
      "See the caveats in the documentation: https://pandas.pydata.org/pandas-docs/stable/user_guide/indexing.html#returning-a-view-versus-a-copy\n",
      "  source_df.drop(columns=['price_corrected'], inplace=True)\n"
     ]
    }
   ],
   "source": [
    "get_rid_of_outliers(df)"
   ]
  },
  {
   "cell_type": "code",
   "execution_count": 34,
   "metadata": {},
   "outputs": [
    {
     "data": {
      "text/html": [
       "<div>\n",
       "<style scoped>\n",
       "    .dataframe tbody tr th:only-of-type {\n",
       "        vertical-align: middle;\n",
       "    }\n",
       "\n",
       "    .dataframe tbody tr th {\n",
       "        vertical-align: top;\n",
       "    }\n",
       "\n",
       "    .dataframe thead th {\n",
       "        text-align: right;\n",
       "    }\n",
       "</style>\n",
       "<table border=\"1\" class=\"dataframe\">\n",
       "  <thead>\n",
       "    <tr style=\"text-align: right;\">\n",
       "      <th>Price</th>\n",
       "      <th>Open</th>\n",
       "      <th>High</th>\n",
       "      <th>Low</th>\n",
       "      <th>Close</th>\n",
       "      <th>Volume</th>\n",
       "      <th>is_outlier</th>\n",
       "    </tr>\n",
       "    <tr>\n",
       "      <th>Date</th>\n",
       "      <th></th>\n",
       "      <th></th>\n",
       "      <th></th>\n",
       "      <th></th>\n",
       "      <th></th>\n",
       "      <th></th>\n",
       "    </tr>\n",
       "  </thead>\n",
       "  <tbody>\n",
       "    <tr>\n",
       "      <th>2024-12-06</th>\n",
       "      <td>220.750000</td>\n",
       "      <td>227.149994</td>\n",
       "      <td>220.600006</td>\n",
       "      <td>223.373999</td>\n",
       "      <td>44178100</td>\n",
       "      <td>True</td>\n",
       "    </tr>\n",
       "    <tr>\n",
       "      <th>2024-12-09</th>\n",
       "      <td>227.210007</td>\n",
       "      <td>230.080002</td>\n",
       "      <td>225.669998</td>\n",
       "      <td>225.793997</td>\n",
       "      <td>46819400</td>\n",
       "      <td>True</td>\n",
       "    </tr>\n",
       "    <tr>\n",
       "      <th>2024-12-10</th>\n",
       "      <td>226.089996</td>\n",
       "      <td>229.059998</td>\n",
       "      <td>224.199997</td>\n",
       "      <td>227.477997</td>\n",
       "      <td>31199900</td>\n",
       "      <td>True</td>\n",
       "    </tr>\n",
       "    <tr>\n",
       "      <th>2024-12-11</th>\n",
       "      <td>226.410004</td>\n",
       "      <td>231.199997</td>\n",
       "      <td>226.259995</td>\n",
       "      <td>227.563998</td>\n",
       "      <td>35385800</td>\n",
       "      <td>True</td>\n",
       "    </tr>\n",
       "    <tr>\n",
       "      <th>2024-12-12</th>\n",
       "      <td>229.830002</td>\n",
       "      <td>231.089996</td>\n",
       "      <td>227.630005</td>\n",
       "      <td>228.931998</td>\n",
       "      <td>28204100</td>\n",
       "      <td>True</td>\n",
       "    </tr>\n",
       "    <tr>\n",
       "      <th>2024-12-13</th>\n",
       "      <td>228.399994</td>\n",
       "      <td>230.199997</td>\n",
       "      <td>225.860001</td>\n",
       "      <td>230.153998</td>\n",
       "      <td>28768100</td>\n",
       "      <td>True</td>\n",
       "    </tr>\n",
       "    <tr>\n",
       "      <th>2024-12-16</th>\n",
       "      <td>230.229996</td>\n",
       "      <td>233.000000</td>\n",
       "      <td>228.009995</td>\n",
       "      <td>228.206000</td>\n",
       "      <td>37552100</td>\n",
       "      <td>True</td>\n",
       "    </tr>\n",
       "    <tr>\n",
       "      <th>2024-12-17</th>\n",
       "      <td>232.389999</td>\n",
       "      <td>232.729996</td>\n",
       "      <td>227.850006</td>\n",
       "      <td>227.069998</td>\n",
       "      <td>35948100</td>\n",
       "      <td>True</td>\n",
       "    </tr>\n",
       "    <tr>\n",
       "      <th>2024-12-19</th>\n",
       "      <td>224.910004</td>\n",
       "      <td>226.089996</td>\n",
       "      <td>222.919998</td>\n",
       "      <td>224.987997</td>\n",
       "      <td>39918700</td>\n",
       "      <td>True</td>\n",
       "    </tr>\n",
       "    <tr>\n",
       "      <th>2024-12-20</th>\n",
       "      <td>219.839996</td>\n",
       "      <td>226.210007</td>\n",
       "      <td>218.729996</td>\n",
       "      <td>224.567999</td>\n",
       "      <td>88279200</td>\n",
       "      <td>True</td>\n",
       "    </tr>\n",
       "    <tr>\n",
       "      <th>2024-12-23</th>\n",
       "      <td>225.009995</td>\n",
       "      <td>226.880005</td>\n",
       "      <td>223.899994</td>\n",
       "      <td>225.873999</td>\n",
       "      <td>28070000</td>\n",
       "      <td>True</td>\n",
       "    </tr>\n",
       "    <tr>\n",
       "      <th>2024-12-24</th>\n",
       "      <td>226.940002</td>\n",
       "      <td>229.139999</td>\n",
       "      <td>226.130005</td>\n",
       "      <td>225.966000</td>\n",
       "      <td>15007500</td>\n",
       "      <td>True</td>\n",
       "    </tr>\n",
       "    <tr>\n",
       "      <th>2024-12-26</th>\n",
       "      <td>228.500000</td>\n",
       "      <td>228.500000</td>\n",
       "      <td>226.669998</td>\n",
       "      <td>225.242001</td>\n",
       "      <td>16146700</td>\n",
       "      <td>True</td>\n",
       "    </tr>\n",
       "    <tr>\n",
       "      <th>2024-12-27</th>\n",
       "      <td>225.600006</td>\n",
       "      <td>226.029999</td>\n",
       "      <td>220.899994</td>\n",
       "      <td>224.108002</td>\n",
       "      <td>27367100</td>\n",
       "      <td>True</td>\n",
       "    </tr>\n",
       "    <tr>\n",
       "      <th>2025-01-03</th>\n",
       "      <td>222.509995</td>\n",
       "      <td>225.360001</td>\n",
       "      <td>221.619995</td>\n",
       "      <td>222.704001</td>\n",
       "      <td>27515600</td>\n",
       "      <td>True</td>\n",
       "    </tr>\n",
       "    <tr>\n",
       "      <th>2025-01-06</th>\n",
       "      <td>226.779999</td>\n",
       "      <td>228.839996</td>\n",
       "      <td>224.839996</td>\n",
       "      <td>223.252002</td>\n",
       "      <td>31849800</td>\n",
       "      <td>True</td>\n",
       "    </tr>\n",
       "    <tr>\n",
       "      <th>2025-01-15</th>\n",
       "      <td>222.830002</td>\n",
       "      <td>223.570007</td>\n",
       "      <td>220.750000</td>\n",
       "      <td>221.234003</td>\n",
       "      <td>31291300</td>\n",
       "      <td>True</td>\n",
       "    </tr>\n",
       "    <tr>\n",
       "      <th>2025-01-17</th>\n",
       "      <td>225.839996</td>\n",
       "      <td>226.509995</td>\n",
       "      <td>223.080002</td>\n",
       "      <td>227.134003</td>\n",
       "      <td>42370100</td>\n",
       "      <td>True</td>\n",
       "    </tr>\n",
       "    <tr>\n",
       "      <th>2025-01-21</th>\n",
       "      <td>228.899994</td>\n",
       "      <td>231.779999</td>\n",
       "      <td>226.940002</td>\n",
       "      <td>229.548001</td>\n",
       "      <td>39951500</td>\n",
       "      <td>True</td>\n",
       "    </tr>\n",
       "    <tr>\n",
       "      <th>2025-01-22</th>\n",
       "      <td>232.020004</td>\n",
       "      <td>235.440002</td>\n",
       "      <td>231.190002</td>\n",
       "      <td>232.386002</td>\n",
       "      <td>41448200</td>\n",
       "      <td>True</td>\n",
       "    </tr>\n",
       "    <tr>\n",
       "      <th>2025-01-23</th>\n",
       "      <td>234.100006</td>\n",
       "      <td>235.520004</td>\n",
       "      <td>231.509995</td>\n",
       "      <td>NaN</td>\n",
       "      <td>26404400</td>\n",
       "      <td>True</td>\n",
       "    </tr>\n",
       "    <tr>\n",
       "      <th>2025-01-24</th>\n",
       "      <td>234.500000</td>\n",
       "      <td>236.399994</td>\n",
       "      <td>232.929993</td>\n",
       "      <td>NaN</td>\n",
       "      <td>25874200</td>\n",
       "      <td>True</td>\n",
       "    </tr>\n",
       "  </tbody>\n",
       "</table>\n",
       "</div>"
      ],
      "text/plain": [
       "Price             Open        High         Low       Close    Volume  \\\n",
       "Date                                                                   \n",
       "2024-12-06  220.750000  227.149994  220.600006  223.373999  44178100   \n",
       "2024-12-09  227.210007  230.080002  225.669998  225.793997  46819400   \n",
       "2024-12-10  226.089996  229.059998  224.199997  227.477997  31199900   \n",
       "2024-12-11  226.410004  231.199997  226.259995  227.563998  35385800   \n",
       "2024-12-12  229.830002  231.089996  227.630005  228.931998  28204100   \n",
       "2024-12-13  228.399994  230.199997  225.860001  230.153998  28768100   \n",
       "2024-12-16  230.229996  233.000000  228.009995  228.206000  37552100   \n",
       "2024-12-17  232.389999  232.729996  227.850006  227.069998  35948100   \n",
       "2024-12-19  224.910004  226.089996  222.919998  224.987997  39918700   \n",
       "2024-12-20  219.839996  226.210007  218.729996  224.567999  88279200   \n",
       "2024-12-23  225.009995  226.880005  223.899994  225.873999  28070000   \n",
       "2024-12-24  226.940002  229.139999  226.130005  225.966000  15007500   \n",
       "2024-12-26  228.500000  228.500000  226.669998  225.242001  16146700   \n",
       "2024-12-27  225.600006  226.029999  220.899994  224.108002  27367100   \n",
       "2025-01-03  222.509995  225.360001  221.619995  222.704001  27515600   \n",
       "2025-01-06  226.779999  228.839996  224.839996  223.252002  31849800   \n",
       "2025-01-15  222.830002  223.570007  220.750000  221.234003  31291300   \n",
       "2025-01-17  225.839996  226.509995  223.080002  227.134003  42370100   \n",
       "2025-01-21  228.899994  231.779999  226.940002  229.548001  39951500   \n",
       "2025-01-22  232.020004  235.440002  231.190002  232.386002  41448200   \n",
       "2025-01-23  234.100006  235.520004  231.509995         NaN  26404400   \n",
       "2025-01-24  234.500000  236.399994  232.929993         NaN  25874200   \n",
       "\n",
       "Price       is_outlier  \n",
       "Date                    \n",
       "2024-12-06        True  \n",
       "2024-12-09        True  \n",
       "2024-12-10        True  \n",
       "2024-12-11        True  \n",
       "2024-12-12        True  \n",
       "2024-12-13        True  \n",
       "2024-12-16        True  \n",
       "2024-12-17        True  \n",
       "2024-12-19        True  \n",
       "2024-12-20        True  \n",
       "2024-12-23        True  \n",
       "2024-12-24        True  \n",
       "2024-12-26        True  \n",
       "2024-12-27        True  \n",
       "2025-01-03        True  \n",
       "2025-01-06        True  \n",
       "2025-01-15        True  \n",
       "2025-01-17        True  \n",
       "2025-01-21        True  \n",
       "2025-01-22        True  \n",
       "2025-01-23        True  \n",
       "2025-01-24        True  "
      ]
     },
     "execution_count": 34,
     "metadata": {},
     "output_type": "execute_result"
    }
   ],
   "source": [
    "# df.ffill(inplace=True)\n",
    "df[df['is_outlier'] == True]"
   ]
  }
 ],
 "metadata": {
  "kernelspec": {
   "display_name": ".venv",
   "language": "python",
   "name": "python3"
  },
  "language_info": {
   "codemirror_mode": {
    "name": "ipython",
    "version": 3
   },
   "file_extension": ".py",
   "mimetype": "text/x-python",
   "name": "python",
   "nbconvert_exporter": "python",
   "pygments_lexer": "ipython3",
   "version": "3.12.7"
  }
 },
 "nbformat": 4,
 "nbformat_minor": 2
}
