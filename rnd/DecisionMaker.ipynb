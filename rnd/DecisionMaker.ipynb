{
 "cells": [
  {
   "cell_type": "code",
   "execution_count": 1,
   "metadata": {},
   "outputs": [],
   "source": [
    "import yfinance as yf\n",
    "import pandas as pd\n",
    "import matplotlib.pyplot as plt\n",
    "from sklearn.preprocessing import MinMaxScaler\n",
    "import talib\n",
    "from talib import MA_Type\n",
    "import plotly.graph_objects as go\n",
    "import backtesting\n",
    "from backtesting import Backtest, Strategy"
   ]
  },
  {
   "cell_type": "code",
   "execution_count": 3,
   "metadata": {},
   "outputs": [],
   "source": [
    "def LoadAndFill(fileName: str) -> pd.DataFrame:\n",
    "    df = pd.read_csv(fileName, header=[0, 1], index_col=0)\n",
    "    df.columns.names = ['Price', 'Date'] # Переименовываем индексное поле из Ticker в Date\n",
    "    df.index = pd.to_datetime(df.index)\n",
    "    expected_dates = pd.date_range(start=df.index.min(), end=df.index.max(), freq='D')\n",
    "    # missing_dates = expected_dates.difference(df.index)\n",
    "    df = df.reindex(expected_dates)\n",
    "    df.ffill(inplace=True)\n",
    "    return df\n",
    "\n",
    "\n",
    "def ScaleDF(adj_close_df: pd.DataFrame) -> pd.DataFrame:\n",
    "    scaler = MinMaxScaler()\n",
    "    scaled_adj_close = pd.DataFrame(\n",
    "        scaler.fit_transform(adj_close_df),\n",
    "        columns=adj_close_df.columns,\n",
    "        index=adj_close_df.index\n",
    "    )\n",
    "    return scaled_adj_close\n",
    "\n",
    "\n",
    "def GetClosePriceForAsset(name: str, input_df: pd.DataFrame) -> pd.DataFrame:  \n",
    "    input_df = input_df[name].to_frame()\n",
    "    input_df.rename(columns={name: 'Close'}, inplace=True)\n",
    "    input_df.rename(columns={'index': 'Date'}, inplace=True)\n",
    "    return input_df\n",
    "    \n",
    "def PlotPrices(df: pd.DataFrame):\n",
    "    # Plot the scaled data\n",
    "    df.plot(figsize=(12, 6), title=\"Нормализованная скорректированная цена закрытия\")\n",
    "    plt.xlabel(\"Дата\")\n",
    "    plt.ylabel(\"Цена от 0 до 1\")\n",
    "    plt.grid(True)\n",
    "    plt.legend(title=\"Stocks\", loc=\"upper left\")\n",
    "    plt.show()"
   ]
  },
  {
   "cell_type": "code",
   "execution_count": 15,
   "metadata": {},
   "outputs": [],
   "source": [
    "def bbands_signals(input_df: pd.DataFrame) -> pd.DataFrame:    \n",
    "    period = 20\n",
    "    upper, middle, lower = talib.BBANDS(input_df['Close'], matype=MA_Type.SMA, timeperiod=period)\n",
    "    input_df['upper'], input_df['middle'], input_df['lower'] = upper.astype('float64'), middle.astype('float64'), lower.astype('float64')\n",
    "    input_df = input_df.iloc[period-1:]\n",
    "    input_df['Prev Close'] = input_df['Close'].shift(1)\n",
    "\n",
    "    signal_df = pd.DataFrame(index=input_df.index)\n",
    "    signal_df['Signal'] = 0\n",
    "\n",
    "\n",
    "    # Define conditions for buy and sell signals\n",
    "    buy_condition = (input_df['Prev Close'] >= input_df['lower']) & (input_df['Close'] < input_df['lower'])\n",
    "    sell_condition = (input_df['Prev Close'] <= input_df['upper']) & (input_df['Close'] > input_df['upper'])\n",
    "    signal_df.dropna(inplace=True)\n",
    "    assert signal_df.index.equals(input_df.index), \"Indices do not match\"\n",
    "    # Assign signals in 'signal_df'\n",
    "    # Handle NaNs in conditions\n",
    "    buy_condition.fillna(False)\n",
    "    sell_condition.fillna(False)\n",
    "    signal_df.loc[buy_condition, 'Signal'] = 1   # Buy signal\n",
    "    signal_df.loc[sell_condition, 'Signal'] = -1  # Sell signal\n",
    "    signal_df['Close'] = input_df['Close']\n",
    "    signal_df.reset_index(inplace=True)\n",
    "    signal_df.rename(columns={'index': 'Date'}, inplace=True)\n",
    "\n",
    "    buy_sell_signals = signal_df[signal_df['Signal'] != 0]\n",
    "    buy_sell_signals['prev'] = buy_sell_signals['Signal'].shift(1)\n",
    "\n",
    "    buy_sell_signals.loc[buy_sell_signals['prev'] == buy_sell_signals['Signal'], 'Signal'] = 0    \n",
    "    signal_df['Signal'] = buy_sell_signals['Signal']\n",
    "    signal_df['Signal'].fillna(value=0.0, inplace=True)\n",
    "    signal_df['Date'] = pd.to_datetime(signal_df['Date']) \n",
    "\n",
    "    return signal_df\n",
    "\n",
    "\n",
    "def macd_signal(input_df: pd.DataFrame) -> pd.DataFrame:    \n",
    "    # Рассчитываем TEMA и MACD\n",
    "    signal_df = pd.DataFrame(index=input_df.index)\n",
    "    signal_df['Close'] = input_df['Close']\n",
    "    signal_df.reset_index(inplace=True)\n",
    "    signal_df.rename(columns={'index': 'Date'}, inplace=True)\n",
    "    signal_df['Signal'] = 0\n",
    "\n",
    "    signal_df['tema'] = talib.TEMA(signal_df['Close'], timeperiod=24)\n",
    "    signal_df['macd'], signal_df['macd_signal'], signal_df['macd_hist'] = talib.MACD(signal_df['Close'], fastperiod=12, slowperiod=26, signalperiod=9)\n",
    "    \n",
    "    # Создаем сигналы для покупки и продажи\n",
    "    signal_df['Signal'] = 0\n",
    "    signal_df.loc[(signal_df['macd'] > signal_df['macd_signal']) & (signal_df['Close'] > signal_df['tema']), 'Signal'] = 1  # Сигнал на покупку\n",
    "    signal_df.loc[(signal_df['macd'] < signal_df['macd_signal']) & (signal_df['Close'] < signal_df['tema']), 'Signal'] = -1  # Сигнал на продажу\n",
    "    \n",
    "    buy_sell_signals = signal_df[signal_df['Signal'] != 0]\n",
    "    buy_sell_signals['prev'] = buy_sell_signals['Signal'].shift(1)\n",
    "\n",
    "    buy_sell_signals.loc[buy_sell_signals['prev'] == buy_sell_signals['Signal'], 'Signal'] = 0    \n",
    "    signal_df['Signal'] = buy_sell_signals['Signal']\n",
    "    signal_df['Signal'].fillna(value=0.0, inplace=True)\n",
    "    signal_df['Date'] = pd.to_datetime(signal_df['Date']) \n",
    "\n",
    "    return signal_df\n",
    "\n",
    "\n",
    "def reversed_bbands_signals(input_df: pd.DataFrame) -> pd.DataFrame: \n",
    "    signals_df = bbands_signals(input_df)\n",
    "    signals_df['Signal'] = signals_df['Signal'] * -1\n",
    "    return signals_df\n",
    "\n",
    "def reversed_macd_signals(input_df: pd.DataFrame) -> pd.DataFrame: \n",
    "    signals_df = macd_signal(input_df)\n",
    "    signals_df['Signal'] = signals_df['Signal'] * -1\n",
    "    return signals_df"
   ]
  },
  {
   "cell_type": "code",
   "execution_count": 16,
   "metadata": {},
   "outputs": [],
   "source": [
    "indticators: list = {\n",
    "    'BBAND': bbands_signals,\n",
    "    'MACD': macd_signal,\n",
    "    'REVERSED_BBAND': reversed_bbands_signals,\n",
    "    'REVERSED_MACD': reversed_macd_signals,\n",
    "}"
   ]
  },
  {
   "cell_type": "code",
   "execution_count": 5,
   "metadata": {},
   "outputs": [],
   "source": [
    "df = LoadAndFill('../hw7/snp500_stock_data.csv')\n",
    "df = ScaleDF(df['Adj Close'])"
   ]
  },
  {
   "cell_type": "code",
   "execution_count": null,
   "metadata": {},
   "outputs": [],
   "source": [
    "class ComplexStrategy:\n",
    "    def __init__(self) -> None:\n",
    "        pass\n",
    "\n",
    "    def NextDeals(stock_df: pd.DataFrame) -> list:\n",
    "        for asset_name in stock_df.columns:\n",
    "            asset_df = GetClosePriceForAsset(asset_name, stock_df)"
   ]
  },
  {
   "cell_type": "code",
   "execution_count": 19,
   "metadata": {},
   "outputs": [
    {
     "name": "stdout",
     "output_type": "stream",
     "text": [
      "BBAND\n",
      "MACD\n",
      "REVERSED_BBAND\n",
      "REVERSED_MACD\n"
     ]
    }
   ],
   "source": [
    "for indicator in indticators:\n",
    "    print(indicator)"
   ]
  },
  {
   "cell_type": "code",
   "execution_count": null,
   "metadata": {},
   "outputs": [],
   "source": []
  }
 ],
 "metadata": {
  "kernelspec": {
   "display_name": "base",
   "language": "python",
   "name": "python3"
  },
  "language_info": {
   "codemirror_mode": {
    "name": "ipython",
    "version": 3
   },
   "file_extension": ".py",
   "mimetype": "text/x-python",
   "name": "python",
   "nbconvert_exporter": "python",
   "pygments_lexer": "ipython3",
   "version": "3.9.13"
  }
 },
 "nbformat": 4,
 "nbformat_minor": 2
}
